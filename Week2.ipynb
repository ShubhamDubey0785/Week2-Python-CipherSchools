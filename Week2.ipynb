{
  "nbformat": 4,
  "nbformat_minor": 0,
  "metadata": {
    "colab": {
      "provenance": []
    },
    "kernelspec": {
      "name": "python3",
      "display_name": "Python 3"
    },
    "language_info": {
      "name": "python"
    }
  },
  "cells": [
    {
      "cell_type": "code",
      "execution_count": null,
      "metadata": {
        "colab": {
          "base_uri": "https://localhost:8080/"
        },
        "id": "EkbLGgSdR45H",
        "outputId": "1add5d55-0156-4118-ab63-42c37b794609"
      },
      "outputs": [
        {
          "output_type": "stream",
          "name": "stdout",
          "text": [
            "1\n",
            "3\n",
            "6\n",
            "10\n",
            "15\n",
            "21\n",
            "28\n",
            "36\n",
            "45\n",
            "55\n"
          ]
        }
      ],
      "source": [
        "# example 1 for loop 1st part\n",
        "total = 0\n",
        "for i in range (1,11):\n",
        "  total +=i\n",
        "  print(total)"
      ]
    },
    {
      "cell_type": "code",
      "source": [
        "# example 1 for loop 2nd part\n",
        "n = int(input(\"enter a number :\"))\n",
        "total = 0\n",
        "for i in range (1,n+1):\n",
        "  total +=i\n",
        "  print(total)"
      ],
      "metadata": {
        "colab": {
          "base_uri": "https://localhost:8080/"
        },
        "id": "07UiDLmlUluc",
        "outputId": "8168b70a-6b76-4325-f5a1-390766537ee6"
      },
      "execution_count": null,
      "outputs": [
        {
          "output_type": "stream",
          "name": "stdout",
          "text": [
            "enter a number :15\n",
            "1\n",
            "3\n",
            "6\n",
            "10\n",
            "15\n",
            "21\n",
            "28\n",
            "36\n",
            "45\n",
            "55\n",
            "66\n",
            "78\n",
            "91\n",
            "105\n",
            "120\n"
          ]
        }
      ]
    },
    {
      "cell_type": "code",
      "source": [
        "# example 2 of for loop\n",
        "total = 0\n",
        "num = input(\"enter a number :\")\n",
        "for i in range(0 , len(num)):\n",
        "  total +=int(num[i])\n",
        "  print(total)\n"
      ],
      "metadata": {
        "colab": {
          "base_uri": "https://localhost:8080/"
        },
        "id": "uyGOt4OVVME9",
        "outputId": "775847cf-f651-4736-e611-ba9b408d474e"
      },
      "execution_count": null,
      "outputs": [
        {
          "output_type": "stream",
          "name": "stdout",
          "text": [
            "enter a number :1324\n",
            "1\n",
            "4\n",
            "6\n",
            "10\n"
          ]
        }
      ]
    },
    {
      "cell_type": "code",
      "source": [
        "# example 3 of for loop\n",
        "name = input(\"enter a name:\")\n",
        "temp = \"\"\n",
        "for i in range(0,len(name)):\n",
        "  if name[i] not in temp:\n",
        "    print(f\"{name[i]}:{name.count(name[i])}\")\n",
        "    temp += name[i]"
      ],
      "metadata": {
        "colab": {
          "base_uri": "https://localhost:8080/"
        },
        "id": "eXWXyAHOZmHx",
        "outputId": "b49e0505-0243-4cd5-e98f-e1233045bd28"
      },
      "execution_count": null,
      "outputs": [
        {
          "output_type": "stream",
          "name": "stdout",
          "text": [
            "enter a name:manan jungwal\n",
            "m:1\n",
            "a:3\n",
            "n:3\n",
            " :1\n",
            "j:1\n",
            "u:1\n",
            "g:1\n",
            "w:1\n",
            "l:1\n"
          ]
        }
      ]
    },
    {
      "cell_type": "code",
      "source": [
        "# break and continue\n",
        "for i in range(1,11):\n",
        "  if i ==3:\n",
        "    break\n",
        "  print(i)\n",
        "\n",
        "for i in range(1,11):\n",
        "  if i==7:\n",
        "    continue\n",
        "  print(i)"
      ],
      "metadata": {
        "colab": {
          "base_uri": "https://localhost:8080/"
        },
        "id": "IssZYEvoatq1",
        "outputId": "6274c9e6-b9a1-4bfe-8a99-799b65be5216"
      },
      "execution_count": null,
      "outputs": [
        {
          "output_type": "stream",
          "name": "stdout",
          "text": [
            "1\n",
            "2\n",
            "1\n",
            "2\n",
            "3\n",
            "4\n",
            "5\n",
            "6\n",
            "8\n",
            "9\n",
            "10\n"
          ]
        }
      ]
    },
    {
      "cell_type": "code",
      "source": [
        "# Exercise 6\n",
        "winning_number = 43\n",
        "guess = 1\n",
        "num = int(input(\"enter a number between 1 and 100\"))\n",
        "game_over = False\n",
        "while not game_over:\n",
        "  if winning_number==num:\n",
        "    print(f\"you win , you guessed the number in {guess} times\")\n",
        "    game_over=True\n",
        "  else:\n",
        "    if num>winning_number:\n",
        "      print(\"too high\")\n",
        "      guess += 1\n",
        "      num=int(input(\"guess again :\"))\n",
        "    else:\n",
        "      print(\"too low\")\n",
        "      guess += 1\n",
        "      num=int(input(\"guess again :\"))\n"
      ],
      "metadata": {
        "colab": {
          "base_uri": "https://localhost:8080/"
        },
        "id": "MgI0x2ImcDRE",
        "outputId": "cbae6b7c-3cc1-46ea-fe86-68dfb4b8ca6f"
      },
      "execution_count": null,
      "outputs": [
        {
          "output_type": "stream",
          "name": "stdout",
          "text": [
            "enter a number between 1 and 10054\n",
            "too high\n",
            "guess again :39\n",
            "too low\n",
            "guess again :43\n",
            "you win , you guessed the number in 3 times\n"
          ]
        }
      ]
    },
    {
      "cell_type": "code",
      "source": [
        "# Dry and Random number generator\n",
        "import random\n",
        "winning_number = random.randint2\n",
        "(1,100)\n",
        "guess = 1\n",
        "num = int(input(\"enter a number between 1 and 100\"))\n",
        "game_over = False\n",
        "while not game_over:\n",
        "  if winning_number==num:\n",
        "    print(f\"you win , you guessed the number in {guess} times\")\n",
        "    game_over=True\n",
        "  else:\n",
        "    if num>winning_number:\n",
        "      print(\"too high\")\n",
        "    else:\n",
        "      print(\"too low\")\n",
        "\n",
        "    guess += 1  # Dry\n",
        "    num=int(input(\"guess again :\"))\n"
      ],
      "metadata": {
        "colab": {
          "base_uri": "https://localhost:8080/"
        },
        "id": "PPTjAhyV5OFm",
        "outputId": "4d8ab16e-690a-46b9-e709-ca44dccd4cec"
      },
      "execution_count": null,
      "outputs": [
        {
          "output_type": "stream",
          "name": "stdout",
          "text": [
            "enter a number between 1 and 10056\n",
            "too high\n",
            "guess again :46\n",
            "too high\n",
            "guess again :36\n",
            "too high\n",
            "guess again :26\n",
            "too high\n",
            "guess again :16\n",
            "too high\n",
            "guess again :6\n",
            "too high\n",
            "guess again :1\n",
            "too low\n",
            "guess again :2\n",
            "too low\n",
            "guess again :4\n",
            "you win , you guessed the number in 9 times\n"
          ]
        }
      ]
    },
    {
      "cell_type": "code",
      "source": [
        "# Step Argument\n",
        "for i in range(1,11,2): # 2 is my step argument here . will create gap of 2\n",
        "  print(i)\n",
        "\n",
        "for i in range(10,0,-1):\n",
        "  print(i)"
      ],
      "metadata": {
        "colab": {
          "base_uri": "https://localhost:8080/"
        },
        "id": "1xC9KWET7rC1",
        "outputId": "ce61efc2-c246-4f07-e1ca-95acceee1196"
      },
      "execution_count": null,
      "outputs": [
        {
          "output_type": "stream",
          "name": "stdout",
          "text": [
            "1\n",
            "3\n",
            "5\n",
            "7\n",
            "9\n",
            "10\n",
            "9\n",
            "8\n",
            "7\n",
            "6\n",
            "5\n",
            "4\n",
            "3\n",
            "2\n",
            "1\n"
          ]
        }
      ]
    },
    {
      "cell_type": "code",
      "source": [
        "# For loop and string in python\n",
        "number=(input(\"enter a number :\")) #didnt convert to int here bcuz loop/slicing cant be done of number\n",
        "total=0\n",
        "for i in number:\n",
        "  total+=int(i)\n",
        "print(total)"
      ],
      "metadata": {
        "colab": {
          "base_uri": "https://localhost:8080/"
        },
        "id": "QupLF0IH83sq",
        "outputId": "872b16d2-7916-4347-892e-f74804ef6e2b"
      },
      "execution_count": null,
      "outputs": [
        {
          "output_type": "stream",
          "name": "stdout",
          "text": [
            "enter a number :243\n",
            "9\n"
          ]
        }
      ]
    },
    {
      "cell_type": "code",
      "source": [
        "# Functions\n",
        "def add_two(num1,num2):\n",
        "  return num1 + num2\n",
        "total=add_two(10,5)\n",
        "print(total)"
      ],
      "metadata": {
        "colab": {
          "base_uri": "https://localhost:8080/"
        },
        "id": "IqH_-qcb-oXA",
        "outputId": "ed03f8e4-b21a-4ee4-aed3-0e3fe600d150"
      },
      "execution_count": null,
      "outputs": [
        {
          "output_type": "stream",
          "name": "stdout",
          "text": [
            "15\n"
          ]
        }
      ]
    },
    {
      "cell_type": "code",
      "source": [
        "# Functions\n",
        "def add_two(num1,num2):\n",
        "  return num1 + num2\n",
        "a=int(input(\"enter number\"))\n",
        "b=int(input(\"enter number \"))\n",
        "print(add_two(a,b))\n"
      ],
      "metadata": {
        "colab": {
          "base_uri": "https://localhost:8080/"
        },
        "id": "BZKTjIDaL1Rr",
        "outputId": "80194ced-4950-438e-b764-e7b1e7e6bb21"
      },
      "execution_count": null,
      "outputs": [
        {
          "output_type": "stream",
          "name": "stdout",
          "text": [
            "enter number10\n",
            "enter number 21\n",
            "31\n"
          ]
        }
      ]
    },
    {
      "cell_type": "code",
      "source": [
        "# example 1 of functions\n",
        "def last_char(name):\n",
        "  return name[-1]\n",
        "print(last_char(\"manan\"))\n",
        "\n",
        "# example 2\n",
        "def odd_number(num):\n",
        "  if num%2==0:\n",
        "    return \"even\"\n",
        "  else:\n",
        "    return \"odd\"\n",
        "print(odd_number(9))\n",
        "\n",
        "# example 3\n",
        "def is_even(num):\n",
        "  if num%2==0:\n",
        "    return True\n",
        "  else:\n",
        "    return False\n",
        "print(is_even(29)) \n",
        "# or\n",
        "def is_even(num):\n",
        "  return num%2==0\n",
        "print(is_even(10))\n",
        "\n",
        "# example 4\n",
        "def song():\n",
        "  return \"happy bday\"\n",
        "print(song())\n"
      ],
      "metadata": {
        "colab": {
          "base_uri": "https://localhost:8080/"
        },
        "id": "lM8VO9o6N3Bn",
        "outputId": "a01eda01-1cc8-46a2-806f-b5f2ddffebe9"
      },
      "execution_count": null,
      "outputs": [
        {
          "output_type": "stream",
          "name": "stdout",
          "text": [
            "n\n",
            "odd\n",
            "False\n",
            "True\n",
            "happy bday\n"
          ]
        }
      ]
    },
    {
      "cell_type": "code",
      "source": [
        "# chapter 4 exercise 1\n",
        "def greater(a,b):\n",
        "  if a>b:\n",
        "    return a\n",
        "  else:\n",
        "    return b\n",
        "a=int(input(\"enter a number\"))\n",
        "b=int(input(\"enter a number\"))\n",
        "bigger=greater(a,b)\n",
        "print(f\"{bigger} is greater\")\n",
        "\n",
        "# if asked for 3 numbers a,b,c use if elif else and rest same"
      ],
      "metadata": {
        "colab": {
          "base_uri": "https://localhost:8080/"
        },
        "id": "GZaBQBxNSngz",
        "outputId": "9c3ece90-3c23-4a61-9a6c-ae240b2b5252"
      },
      "execution_count": null,
      "outputs": [
        {
          "output_type": "stream",
          "name": "stdout",
          "text": [
            "enter a number10\n",
            "enter a number20\n",
            "20 is greater\n"
          ]
        }
      ]
    },
    {
      "cell_type": "code",
      "source": [
        "# chapter 4 exercise 2\n",
        "def is_paldrome(word):\n",
        "  return word==word[::-1]\n",
        "print(is_paldrome(\"manan\"))\n",
        "#or\n",
        "def is_paldrome(word):\n",
        "  reverse_name=word[::-1]\n",
        "  if word==reverse_name:\n",
        "    return True\n",
        "  else:\n",
        "    return False\n",
        "print(is_paldrome(\"naman\"))"
      ],
      "metadata": {
        "colab": {
          "base_uri": "https://localhost:8080/"
        },
        "id": "Q4mxJ_I8Z4yg",
        "outputId": "6d6fca0a-240e-4dac-8a18-05748459636b"
      },
      "execution_count": null,
      "outputs": [
        {
          "output_type": "stream",
          "name": "stdout",
          "text": [
            "False\n",
            "True\n"
          ]
        }
      ]
    },
    {
      "cell_type": "code",
      "source": [
        "# default parameters\n",
        "def user_info(first_name,last_name,age):\n",
        "  print(f\"your first name is {first_name}\")\n",
        "  print(f\"your last name is {last_name} \")\n",
        "  print(f\"your age is {age}\")\n",
        "user_info(\"manan\",\"jungwal\",21)\n",
        "#...\n",
        "def user_info(first_name,last_name,age= 'Unknown'): #unknown is default parameter in this case\n",
        "  print(f\"your first name is {first_name}\")\n",
        "  print(f\"your last name is {last_name} \")\n",
        "  print(f\"your age is {age}\")\n",
        "user_info(\"manan\",\"jungwal\")\n",
        "\n",
        "'''\n",
        "def user_info(first_name,last_name='unknown',age):      #default parameter cant be added in between or at start . only at end is acceptable\n",
        "  print(f\"your first name is {first_name}\")\n",
        "  print(f\"your last name is {last_name} \")\n",
        "  print(f\"your age is {age}\")\n",
        "user_info(\"manan\",21)\n",
        "'''\n",
        "\n"
      ],
      "metadata": {
        "colab": {
          "base_uri": "https://localhost:8080/",
          "height": 157
        },
        "id": "iGZ8c5aJVm2b",
        "outputId": "796c4cea-8d89-4284-a3f9-c66b611993c3"
      },
      "execution_count": null,
      "outputs": [
        {
          "output_type": "stream",
          "name": "stdout",
          "text": [
            "your first name is manan\n",
            "your last name is jungwal \n",
            "your age is 21\n",
            "your first name is manan\n",
            "your last name is jungwal \n",
            "your age is Unknown\n"
          ]
        },
        {
          "output_type": "execute_result",
          "data": {
            "text/plain": [
              "'\\ndef user_info(first_name,last_name=\\'unknown\\',age):\\n  print(f\"your first name is {first_name}\")\\n  print(f\"your last name is {last_name} \")\\n  print(f\"your age is {age}\")\\nuser_info(\"manan\",21)\\n'"
            ],
            "application/vnd.google.colaboratory.intrinsic+json": {
              "type": "string"
            }
          },
          "metadata": {},
          "execution_count": 47
        }
      ]
    },
    {
      "cell_type": "code",
      "source": [
        "# scope\n",
        "x=5 #global variable\n",
        "\n",
        "def func():\n",
        "  global x\n",
        "  x=7 #local variable\n",
        "  return x\n",
        "print(x)\n",
        "print(func())\n",
        "print(x)"
      ],
      "metadata": {
        "colab": {
          "base_uri": "https://localhost:8080/"
        },
        "id": "KT-0scA5j5Rq",
        "outputId": "12555972-932a-4806-ee46-a28ca5296346"
      },
      "execution_count": null,
      "outputs": [
        {
          "output_type": "stream",
          "name": "stdout",
          "text": [
            "5\n",
            "7\n",
            "7\n"
          ]
        }
      ]
    },
    {
      "cell_type": "code",
      "source": [
        "# intro to list\n",
        "numbers=[1 , 2 , 3 , 4]\n",
        "print(numbers)\n",
        "\n",
        "words=[\"manan\",\"jungwal\",\"madhav\",1,2,True] # can mix integer , string , boolean etc in list\n",
        "print(words)\n",
        "\n",
        "words=[\"manan\",\"jungwal\",\"madhav\",1,2,True] \n",
        "print(words[1:3]) # slicing of list\n",
        "\n",
        "words=[\"manan\",\"jungwal\",\"madhav\",1,2,True] \n",
        "words[2]=\"manoj\" #to change list\n",
        "print(words)\n",
        "\n",
        "\n"
      ],
      "metadata": {
        "colab": {
          "base_uri": "https://localhost:8080/"
        },
        "id": "1fk6Sw1fklXW",
        "outputId": "26bd5675-d650-407d-8383-15b38fa3accf"
      },
      "execution_count": null,
      "outputs": [
        {
          "output_type": "stream",
          "name": "stdout",
          "text": [
            "[1, 2, 3, 4]\n",
            "['manan', 'jungwal', 'madhav', 1, 2, True]\n",
            "['jungwal', 'madhav']\n",
            "['manan', 'jungwal', 'manoj', 1, 2, True]\n"
          ]
        }
      ]
    },
    {
      "cell_type": "code",
      "source": [
        "# add data to list\n",
        "fruits=[\"apple\" ,\"mango\"]\n",
        "fruits.append(\"grapes\") # append always end at last\n",
        "print(fruits)\n",
        "\n",
        "fruit=[]\n",
        "fruit.append('mango')\n",
        "fruit.append('grapes')\n",
        "print(fruit)"
      ],
      "metadata": {
        "colab": {
          "base_uri": "https://localhost:8080/"
        },
        "id": "vPhTygtHnB1T",
        "outputId": "4725af17-2765-4766-ea9d-d541a57e91d2"
      },
      "execution_count": null,
      "outputs": [
        {
          "output_type": "stream",
          "name": "stdout",
          "text": [
            "['apple', 'mango', 'grapes']\n",
            "['mango', 'grapes']\n"
          ]
        }
      ]
    },
    {
      "cell_type": "code",
      "source": [
        "# add data to list\n",
        "fruit=[\"mango\",\"grapes\"]\n",
        "fruit.insert(1,\"orange\") #insert using indexing\n",
        "print(fruit)\n",
        "\n",
        "fruit1=[\"mango\",\"grapes\"] \n",
        "fruit2=[\"banana\",\"orange\"]\n",
        "fruit=fruit1 + fruit2 #joining 2 lists\n",
        "print(fruit)\n",
        "\n",
        "fruit1=[\"mango\",\"grapes\"] \n",
        "fruit2=[\"banana\",\"orange\"]\n",
        "fruit1.extend(fruit2) #to join 1 into another\n",
        "print(fruit1)\n",
        "\n",
        "\n"
      ],
      "metadata": {
        "colab": {
          "base_uri": "https://localhost:8080/"
        },
        "id": "lStT1BeMoyGZ",
        "outputId": "79c6b9ec-b66c-4f44-a6d3-bb540bab5bb6"
      },
      "execution_count": null,
      "outputs": [
        {
          "output_type": "stream",
          "name": "stdout",
          "text": [
            "['mango', 'orange', 'grapes']\n",
            "['mango', 'grapes', 'banana', 'orange']\n",
            "['mango', 'grapes', 'banana', 'orange']\n"
          ]
        }
      ]
    },
    {
      "cell_type": "code",
      "source": [
        "# Deleting from list\n",
        "\n",
        "fruit=[\"mango\",\"grapes\",\"pear\",\"banana\",\"orange\"]\n",
        "# fruit.pop() to remove last element , fruit.pop(x) to remove at x index\n",
        "fruit.remove(\"banana\") #if we want to remove and we dont know position use remove\n",
        "print(fruit)"
      ],
      "metadata": {
        "colab": {
          "base_uri": "https://localhost:8080/"
        },
        "id": "63mRt_artPvB",
        "outputId": "ca5b5726-77c3-4f9b-a2b7-fbf313aeae92"
      },
      "execution_count": null,
      "outputs": [
        {
          "output_type": "stream",
          "name": "stdout",
          "text": [
            "['mango', 'grapes', 'pear', 'orange']\n"
          ]
        }
      ]
    },
    {
      "cell_type": "code",
      "source": [
        "#checking if something is there in listor no\n",
        "fruit=[\"mango\",\"grapes\",\"pear\",\"banana\",\"orange\"]\n",
        "if \"apple\" in fruit:\n",
        "  print(\"true\")\n",
        "else:\n",
        "  print(\"false\")\n"
      ],
      "metadata": {
        "colab": {
          "base_uri": "https://localhost:8080/"
        },
        "id": "4swzp_WPwptT",
        "outputId": "4c59db3c-fe8d-45e5-f775-4cb22616b366"
      },
      "execution_count": null,
      "outputs": [
        {
          "output_type": "stream",
          "name": "stdout",
          "text": [
            "false\n"
          ]
        }
      ]
    },
    {
      "cell_type": "code",
      "source": [
        "# count, sort , clear , reverse and copy in list\n",
        "fruit=[\"mango\",\"grapes\",\"pear\",\"banana\",\"orange\",\"mango\"]\n",
        "print(fruit.count(\"mango\")) #count\n",
        "\n",
        "fruit=[\"mango\",\"grapes\",\"pear\",\"banana\",\"orange\",\"mango\"]\n",
        "fruit.sort() #sort alphabetical order\n",
        "print(fruit)\n",
        "\n",
        "fruit=[\"mango\",\"grapes\",\"pear\",\"banana\",\"orange\",\"mango\"]\n",
        "fruit.clear() #empty list\n",
        "print(fruit)\n",
        "\n",
        "fruit=[\"mango\",\"grapes\",\"pear\",\"banana\",\"orange\",\"mango\"]\n",
        "fruits1 = fruit.copy() #copying list\n",
        "print(fruits1)\n",
        "\n",
        "fruit=[\"mango\",\"grapes\",\"pear\",\"banana\",\"orange\",\"mango\"]\n",
        "fruits1 = fruit[::-1] #reverse of list\n",
        "print(fruits1)\n"
      ],
      "metadata": {
        "colab": {
          "base_uri": "https://localhost:8080/"
        },
        "id": "hA0X7qG05PSR",
        "outputId": "c6c5737b-c204-4cdf-db83-9e4f1c690abb"
      },
      "execution_count": null,
      "outputs": [
        {
          "output_type": "stream",
          "name": "stdout",
          "text": [
            "2\n",
            "['banana', 'grapes', 'mango', 'mango', 'orange', 'pear']\n",
            "[]\n",
            "['mango', 'grapes', 'pear', 'banana', 'orange', 'mango']\n",
            "['mango', 'orange', 'banana', 'pear', 'grapes', 'mango']\n"
          ]
        }
      ]
    },
    {
      "cell_type": "code",
      "source": [
        "# is vs equal in list\n",
        "fruit1=[\"mango\",\"grapes\",\"pear\"]\n",
        "fruit2=[\"mango\",\"grapes\",\"pear\"]\n",
        "print(fruit1==fruit2) #true cuz both are equal\n",
        "print(fruit1 is fruit2) # fruit1 isnt fruit2 cuz both are saved in diff memory locations"
      ],
      "metadata": {
        "colab": {
          "base_uri": "https://localhost:8080/"
        },
        "id": "wCbiJ0g66a3t",
        "outputId": "46c082a3-cfe9-46fa-c593-39f169f1cd2e"
      },
      "execution_count": null,
      "outputs": [
        {
          "output_type": "stream",
          "name": "stdout",
          "text": [
            "True\n",
            "False\n"
          ]
        }
      ]
    },
    {
      "cell_type": "code",
      "source": [
        "# Join and Split method\n",
        "\n",
        "#join\n",
        "user_info=[\"manan\" ,\"21\"]\n",
        "print(','.join(user_info))\n",
        "\n",
        "#split\n",
        "user_info='manan 21'.split()\n",
        "print(user_info)\n",
        "#or\n",
        "user_info='manan , 21'.split(',')\n",
        "print(user_info)"
      ],
      "metadata": {
        "colab": {
          "base_uri": "https://localhost:8080/"
        },
        "id": "webG5X0X8aor",
        "outputId": "47f61086-ee4f-46f2-f847-3c35f3dc721a"
      },
      "execution_count": null,
      "outputs": [
        {
          "output_type": "stream",
          "name": "stdout",
          "text": [
            "manan,21\n",
            "['manan', '21']\n",
            "['manan ', ' 21']\n"
          ]
        }
      ]
    },
    {
      "cell_type": "code",
      "source": [
        "# looping in list\n",
        "\n",
        "# for loop\n",
        "fruit=[\"mango\",\"grapes\",\"pear\",\"banana\",\"orange\"]\n",
        "for i in fruit:\n",
        "  print(i)\n",
        "\n",
        "# while loop\n",
        "fruit=[\"mango\",\"grapes\",\"pear\",\"banana\",\"orange\"]\n",
        "i=0\n",
        "while i<len(fruit):\n",
        "  print(fruit[i])\n",
        "  i+=1\n"
      ],
      "metadata": {
        "colab": {
          "base_uri": "https://localhost:8080/"
        },
        "id": "03DnyW-f_-Pr",
        "outputId": "7c404ff9-515f-4573-93f0-c23c86b7fdeb"
      },
      "execution_count": null,
      "outputs": [
        {
          "output_type": "stream",
          "name": "stdout",
          "text": [
            "mango\n",
            "grapes\n",
            "pear\n",
            "banana\n",
            "orange\n",
            "mango\n",
            "grapes\n",
            "pear\n",
            "banana\n",
            "orange\n"
          ]
        }
      ]
    },
    {
      "cell_type": "code",
      "source": [
        "# list inside list and loop inside loop\n",
        "matrix=[[1,2,3],[4,5,6],[7,8,9]]\n",
        "print(matrix)\n",
        "print(matrix[1]) # to print list inside list\n",
        "print(matrix[1][1]) # to print 5\n",
        "\n",
        "matrix=[[1,2,3],[4,5,6],[7,8,9]]\n",
        "for sublist in matrix:\n",
        "  for i in sublist: #loop inside loop in list to print all elements of all the list\n",
        "    print(i)"
      ],
      "metadata": {
        "colab": {
          "base_uri": "https://localhost:8080/"
        },
        "id": "Fr-A367-Chs8",
        "outputId": "03907aea-5cc1-436d-ff20-794999eddd06"
      },
      "execution_count": null,
      "outputs": [
        {
          "output_type": "stream",
          "name": "stdout",
          "text": [
            "[[1, 2, 3], [4, 5, 6], [7, 8, 9]]\n",
            "[4, 5, 6]\n",
            "5\n",
            "1\n",
            "2\n",
            "3\n",
            "4\n",
            "5\n",
            "6\n",
            "7\n",
            "8\n",
            "9\n"
          ]
        }
      ]
    },
    {
      "cell_type": "code",
      "source": [
        "# generate list with range function\n",
        "number=list(range(1,11))\n",
        "print(number)\n",
        "\n",
        "# something more abt pop method\n",
        "number=list(range(1,11))\n",
        "print(number.pop(5)) # will print and pop element at 5th index\n",
        "\n",
        "# index method\n",
        "number=list(range(1,11))\n",
        "print(number.index(5)) #will tell the index position of 5\n",
        "\n",
        "# how to make list negative\n",
        "number=[1,2,3,4,5,6,7,8,9,10]\n",
        "def negative_list(l):\n",
        "  negative=[]\n",
        "  for i in l:\n",
        "    negative.append(-i)\n",
        "  return negative\n",
        "print(negative_list(number))\n"
      ],
      "metadata": {
        "colab": {
          "base_uri": "https://localhost:8080/"
        },
        "id": "BkVM6XF_HQ3R",
        "outputId": "4c1a5076-aa5b-449b-c085-a37c0226bcde"
      },
      "execution_count": null,
      "outputs": [
        {
          "output_type": "stream",
          "name": "stdout",
          "text": [
            "[1, 2, 3, 4, 5, 6, 7, 8, 9, 10]\n",
            "6\n",
            "4\n",
            "[-1, -2, -3, -4, -5, -6, -7, -8, -9, -10]\n"
          ]
        }
      ]
    },
    {
      "cell_type": "code",
      "source": [
        "# chapter 5 exercise 1\n",
        "def square_list(l):\n",
        "  square=[]\n",
        "  for i in l:\n",
        "    square.append(i**2)\n",
        "  return square\n",
        "\n",
        "numbers=list(range(1,11))\n",
        "print(square_list(numbers))"
      ],
      "metadata": {
        "colab": {
          "base_uri": "https://localhost:8080/"
        },
        "id": "lYpqRiHZflZR",
        "outputId": "2d36184d-ece6-4027-caca-c5ab078ea6ac"
      },
      "execution_count": 1,
      "outputs": [
        {
          "output_type": "stream",
          "name": "stdout",
          "text": [
            "[1, 4, 9, 16, 25, 36, 49, 64, 81, 100]\n"
          ]
        }
      ]
    },
    {
      "cell_type": "code",
      "source": [
        "# chapter 5 exercise 2\n",
        "def reverse_list(l):\n",
        "  rlist=[]\n",
        "  for i in range(len(l)):\n",
        "    popped_item= l.pop()\n",
        "    rlist.append(popped_item)\n",
        "  return rlist\n",
        "\n",
        "number=[1,2,3,4]\n",
        "print(reverse_list(number))"
      ],
      "metadata": {
        "colab": {
          "base_uri": "https://localhost:8080/"
        },
        "id": "PBOB31MghWun",
        "outputId": "453c11b4-aecb-468c-ccc0-7ecafd7ad5b9"
      },
      "execution_count": 9,
      "outputs": [
        {
          "output_type": "stream",
          "name": "stdout",
          "text": [
            "[4, 3, 2, 1]\n"
          ]
        }
      ]
    },
    {
      "cell_type": "code",
      "source": [
        "# chapter 5 exercise 3\n",
        "def reverse_elements(l):\n",
        "  relements=[]\n",
        "  for i in l:\n",
        "    relements.append(i[::-1])\n",
        "  return relements\n",
        "\n",
        "words=['abc','cde','xyz']\n",
        "print(reverse_elements(words))"
      ],
      "metadata": {
        "colab": {
          "base_uri": "https://localhost:8080/"
        },
        "id": "9gmpMOttxe15",
        "outputId": "30751bde-fda1-47fd-b43f-7ec1ba00565c"
      },
      "execution_count": 10,
      "outputs": [
        {
          "output_type": "stream",
          "name": "stdout",
          "text": [
            "['cba', 'edc', 'zyx']\n"
          ]
        }
      ]
    },
    {
      "cell_type": "code",
      "source": [
        "# chapter 5 exercise 4\n",
        "def odd_even(l):\n",
        "  odd=[]\n",
        "  even=[]\n",
        "  for i in l:\n",
        "    if i%2==0:\n",
        "      even.append(i)\n",
        "    else:\n",
        "      odd.append(i)\n",
        "      output=[odd,even]\n",
        "  return output\n",
        "\n",
        "number=[1,2,3,4,5,6,7,8,9,10]\n",
        "print(odd_even(number))"
      ],
      "metadata": {
        "colab": {
          "base_uri": "https://localhost:8080/"
        },
        "id": "q_ZG9Q-qyeCe",
        "outputId": "c4ce1466-774d-4d54-e30f-e0c6c78de445"
      },
      "execution_count": 11,
      "outputs": [
        {
          "output_type": "stream",
          "name": "stdout",
          "text": [
            "[[1, 3, 5, 7, 9], [2, 4, 6, 8, 10]]\n"
          ]
        }
      ]
    },
    {
      "cell_type": "code",
      "source": [
        "# chapter 5 exercise 5\n",
        "def common_finder(l1,l2):\n",
        "  rlist=[]\n",
        "  for i in l1:\n",
        "    if i in l2:\n",
        "      rlist.append(i)\n",
        "  return rlist\n",
        "print(common_finder([1,2,4,3], [1,5,3,7]))"
      ],
      "metadata": {
        "colab": {
          "base_uri": "https://localhost:8080/"
        },
        "id": "V_NVwHhE3jZw",
        "outputId": "a4162584-9efa-455d-f368-62b9f0d57077"
      },
      "execution_count": 17,
      "outputs": [
        {
          "output_type": "stream",
          "name": "stdout",
          "text": [
            "[1, 3]\n"
          ]
        }
      ]
    },
    {
      "cell_type": "code",
      "source": [
        "#  max and min function\n",
        "numbers=[6,60,2]\n",
        "# print(max(numbers)) to print max\n",
        "# print(min(numbers)) to print min\n",
        "def max_min(l):\n",
        "  return max(l)-min(l)\n",
        "print(max_min(numbers))"
      ],
      "metadata": {
        "colab": {
          "base_uri": "https://localhost:8080/"
        },
        "id": "RfYj0rRa7Q7p",
        "outputId": "353bbe19-bacf-4923-d82d-7fe4e2a5ff07"
      },
      "execution_count": 19,
      "outputs": [
        {
          "output_type": "stream",
          "name": "stdout",
          "text": [
            "58\n"
          ]
        }
      ]
    },
    {
      "cell_type": "code",
      "source": [
        "# chapter 5 exercise 6\n",
        "def sublist(l):\n",
        "  count=0\n",
        "  for i in l:\n",
        "    if type(i)==list:\n",
        "       count+=1\n",
        "  return count\n",
        "print(sublist([[1,2,3],[6,7,8],2,6,8]))"
      ],
      "metadata": {
        "colab": {
          "base_uri": "https://localhost:8080/"
        },
        "id": "ChPjXwLsAaH_",
        "outputId": "a2a8ef06-d093-43d4-f21a-f1e266a19e3d"
      },
      "execution_count": 24,
      "outputs": [
        {
          "output_type": "stream",
          "name": "stdout",
          "text": [
            "2\n"
          ]
        }
      ]
    },
    {
      "cell_type": "code",
      "source": [
        "# Tupil 1st part\n",
        "\n",
        "# for loop and tuple\n",
        "mixed=(1,3,2,4)\n",
        "for i in mixed:\n",
        "  print(i)\n",
        "\n",
        "# tuple with only 1 element\n",
        "nums=(1,) # , is imp if creating 1 element tuple\n",
        "type(nums)\n",
        "\n"
      ],
      "metadata": {
        "colab": {
          "base_uri": "https://localhost:8080/"
        },
        "id": "9hvtcQQGDpSv",
        "outputId": "ed0b1e63-94f8-4bb2-fa51-0de2b08db8f3"
      },
      "execution_count": 30,
      "outputs": [
        {
          "output_type": "stream",
          "name": "stdout",
          "text": [
            "1\n",
            "3\n",
            "2\n",
            "4\n"
          ]
        },
        {
          "output_type": "execute_result",
          "data": {
            "text/plain": [
              "tuple"
            ]
          },
          "metadata": {},
          "execution_count": 30
        }
      ]
    },
    {
      "cell_type": "code",
      "source": [
        "# tuple 2nd part\n",
        "\n",
        "# tuple without parenthesis\n",
        "word='manan','madhav','manvi'\n",
        "print(type(word)) # this is a tuple too\n",
        "\n",
        "# tuple unpacking\n",
        "mixed=('manan','madhav','manvi')\n",
        "guitarist1,guitarist2,guitarist3=mixed\n",
        "print(guitarist1)\n",
        "\n",
        "# list inside tupil\n",
        "mixed=(1,2,['abc','cde','xyz'])\n",
        "mixed[2].append(\"mno\") # u cant add in tupil but still can add if u make list inside tupil\n",
        "print(mixed)\n",
        "\n",
        "# min,max,sum in tupil\n",
        "l=(2,5,8)\n",
        "print(min(l))\n",
        "print(max(l))\n",
        "print(sum(l))"
      ],
      "metadata": {
        "colab": {
          "base_uri": "https://localhost:8080/"
        },
        "id": "LhDBr-tbFPqi",
        "outputId": "98a4b3ae-877c-43b4-8367-67b3d96e1e1e"
      },
      "execution_count": 37,
      "outputs": [
        {
          "output_type": "stream",
          "name": "stdout",
          "text": [
            "<class 'tuple'>\n",
            "manan\n",
            "(1, 2, ['abc', 'cde', 'xyz', 'mno'])\n",
            "2\n",
            "8\n",
            "15\n"
          ]
        }
      ]
    },
    {
      "cell_type": "code",
      "source": [
        "# function returning 2 values in python\n",
        "def add_multiple(x,y):\n",
        "  add=x+y\n",
        "  multiply=x*y\n",
        "  return add, multiply\n",
        "print(add_multiple(2,3)) # will give answer in tupil\n",
        "\n",
        "\n"
      ],
      "metadata": {
        "colab": {
          "base_uri": "https://localhost:8080/"
        },
        "id": "Akw017lgHY-h",
        "outputId": "519e4b83-774b-4a04-a3ac-1f4da705c1fb"
      },
      "execution_count": 44,
      "outputs": [
        {
          "output_type": "stream",
          "name": "stdout",
          "text": [
            "(5, 6)\n"
          ]
        }
      ]
    },
    {
      "cell_type": "code",
      "source": [
        "# something more abt tuple,list,str\n",
        "l=tuple(range(1,11))\n",
        "print(l)\n",
        "\n",
        "# can convert tupil into list and then to string and things like that\n",
        "l=(1,2,3,4,5)\n",
        "print(str(list(l)))"
      ],
      "metadata": {
        "colab": {
          "base_uri": "https://localhost:8080/"
        },
        "id": "m7ZsaON_KRB3",
        "outputId": "f0b89aa7-22cd-4624-ed20-4384e75325b2"
      },
      "execution_count": 50,
      "outputs": [
        {
          "output_type": "stream",
          "name": "stdout",
          "text": [
            "(1, 2, 3, 4, 5, 6, 7, 8, 9, 10)\n",
            "[1, 2, 3, 4, 5]\n"
          ]
        }
      ]
    },
    {
      "cell_type": "code",
      "source": [
        "# dictionary\n",
        "\n",
        "# how to create dictionary 1st method\n",
        "user={'name':'manan','age':'23'}\n",
        "print(user)\n",
        "\n",
        "# 2nd method\n",
        "mix=dict(name='manan',age='21')\n",
        "print(mix)\n",
        "print(mix['name']) # how to access data from dictionary\n",
        "\n",
        "# how to add data in dict.\n",
        "userinfo={}\n",
        "userinfo['name']='manan'\n",
        "print(userinfo)"
      ],
      "metadata": {
        "colab": {
          "base_uri": "https://localhost:8080/"
        },
        "id": "XnoDdwIWMj1j",
        "outputId": "901e0758-42e8-40ab-de35-8864480fa863"
      },
      "execution_count": 55,
      "outputs": [
        {
          "output_type": "stream",
          "name": "stdout",
          "text": [
            "{'name': 'manan', 'age': '23'}\n",
            "{'name': 'manan', 'age': '21'}\n",
            "manan\n",
            "{'name': 'manan'}\n"
          ]
        }
      ]
    },
    {
      "cell_type": "code",
      "source": [
        "# more abt dict\n",
        "\n",
        "# check if key exist in dict\n",
        "user={'name':'manan','age':'23'}\n",
        "if 'name' in user:\n",
        "  print(\"present\")\n",
        "\n",
        "# check if value in dict\n",
        "user={'name':'manan','age':'23'}\n",
        "if 'manan' in user.values():\n",
        "  print(\"present\")\n",
        "\n",
        "# looping in dict\n",
        "user={'name':'manan','age':'23'}\n",
        "for i in user: #all keys wil get printed . to print all values type for i in user.values():\n",
        "  print(i) \n",
        "\n",
        "# value method\n",
        "user={'name':'manan','age':'23'}\n",
        "user=user.values()\n",
        "print(user)\n",
        "\n",
        "# items method\n",
        "user={'name':'manan','age':'23'}\n",
        "user=user.items()\n",
        "print(user)\n",
        "\n",
        "#looping with items\n",
        "user={'name':'manan','age':'23'}\n",
        "for i,j in user.items():\n",
        "  print(f\"key is {i}, value is{j}\")"
      ],
      "metadata": {
        "colab": {
          "base_uri": "https://localhost:8080/"
        },
        "id": "xPlmsR6HTblT",
        "outputId": "54077677-7f9b-4cb3-869d-6e6fe1bb8489"
      },
      "execution_count": 63,
      "outputs": [
        {
          "output_type": "stream",
          "name": "stdout",
          "text": [
            "present\n",
            "present\n",
            "name\n",
            "age\n",
            "dict_values(['manan', '23'])\n",
            "dict_items([('name', 'manan'), ('age', '23')])\n",
            "key is name, value ismanan\n",
            "key is age, value is23\n"
          ]
        }
      ]
    },
    {
      "cell_type": "code",
      "source": [
        "# how to add and delete data from dict. 1st part\n",
        "user={'name':'manan','age':'23'}\n",
        "user['lastname']='jungwal' #add\n",
        "print(user)\n",
        "\n",
        "user={'name': 'manan', 'age': '23', 'lastname': 'jungwal'}\n",
        "x=user.pop('name') # to remove key value pair\n",
        "print(x)\n",
        "print(user)\n",
        "\n"
      ],
      "metadata": {
        "colab": {
          "base_uri": "https://localhost:8080/"
        },
        "id": "002V6zz-ZNMc",
        "outputId": "5cfaebef-712b-4599-f68b-c223d87f5adb"
      },
      "execution_count": 71,
      "outputs": [
        {
          "output_type": "stream",
          "name": "stdout",
          "text": [
            "{'name': 'manan', 'age': '23', 'lastname': 'jungwal'}\n",
            "manan\n",
            "{'age': '23', 'lastname': 'jungwal'}\n"
          ]
        }
      ]
    },
    {
      "cell_type": "code",
      "source": [
        "# 2nd part\n",
        "r={'name': 'manan', 'age': '23', 'lastname': 'jungwal'}\n",
        "y=r.popitem() # randomly removes key value pair\n",
        "print(y)\n",
        "print(r)"
      ],
      "metadata": {
        "colab": {
          "base_uri": "https://localhost:8080/"
        },
        "id": "V2WPMzgGa2HN",
        "outputId": "a8af62ce-7da4-42ca-8a11-073e6a8437a0"
      },
      "execution_count": 72,
      "outputs": [
        {
          "output_type": "stream",
          "name": "stdout",
          "text": [
            "('lastname', 'jungwal')\n",
            "{'name': 'manan', 'age': '23'}\n"
          ]
        }
      ]
    },
    {
      "cell_type": "code",
      "source": [
        "# update dict. (to add 1 dict. into another)\n",
        "r={'name': 'manan', 'age': '23', 'lastname': 'jungwal'}\n",
        "user={'brother':'madhav','sister':'manvi'}\n",
        "r.update(user)\n",
        "print(r)\n"
      ],
      "metadata": {
        "colab": {
          "base_uri": "https://localhost:8080/"
        },
        "id": "bZi82L2_bWUa",
        "outputId": "6ef924c1-cac8-48d8-f355-0cd00f25d763"
      },
      "execution_count": 73,
      "outputs": [
        {
          "output_type": "stream",
          "name": "stdout",
          "text": [
            "{'name': 'manan', 'age': '23', 'lastname': 'jungwal', 'brother': 'madhav', 'sister': 'manvi'}\n"
          ]
        }
      ]
    },
    {
      "cell_type": "code",
      "source": [
        "#  fromkeys (used when same value is there for every key)\n",
        "d= dict.fromkeys(['name','age'],'unknown')\n",
        "print(d)\n",
        "\n",
        "# get (to get particular value)\n",
        "r={'name': 'manan', 'age': '23', 'lastname': 'jungwal'}\n",
        "print(r.get('name'))\n",
        "\n",
        "# clear ( to delete)\n",
        "r={'name': 'manan', 'age': '23', 'lastname': 'jungwal'}\n",
        "r.clear()\n",
        "print(r)\n",
        "\n",
        "# copy\n",
        "r={'name': 'manan', 'age': '23', 'lastname': 'jungwal'}\n",
        "r1=r.copy()\n",
        "print(r1)"
      ],
      "metadata": {
        "colab": {
          "base_uri": "https://localhost:8080/"
        },
        "id": "BhW71F6Ce1ZC",
        "outputId": "b5fb4b85-3739-4bf0-caa9-b8cc0c6ef4df"
      },
      "execution_count": 79,
      "outputs": [
        {
          "output_type": "stream",
          "name": "stdout",
          "text": [
            "{'name': 'unknown', 'age': 'unknown'}\n",
            "manan\n",
            "{}\n",
            "{'name': 'manan', 'age': '23', 'lastname': 'jungwal'}\n"
          ]
        }
      ]
    },
    {
      "cell_type": "code",
      "source": [
        "# more abt get and if 2 same keys in a dict\n",
        "\n",
        "r={'name': 'manan', 'age': '23', 'lastname': 'jungwal'}\n",
        "print(r.get('brother','not found')) # to print a particular message if key isnt there in dict\n",
        "\n",
        "#..\n",
        "r={'name': 'manan', 'age': '23', 'lastname': 'jungwal','age':'33'} # when same key gets repeated , key at last in list gets preference\n",
        "print(r)\n"
      ],
      "metadata": {
        "colab": {
          "base_uri": "https://localhost:8080/"
        },
        "id": "lOIyV9kfhEbf",
        "outputId": "adb5fbf1-1e8f-4c66-c955-68b980a9774b"
      },
      "execution_count": 82,
      "outputs": [
        {
          "output_type": "stream",
          "name": "stdout",
          "text": [
            "not found\n",
            "{'name': 'manan', 'age': '33', 'lastname': 'jungwal'}\n"
          ]
        }
      ]
    }
  ]
}